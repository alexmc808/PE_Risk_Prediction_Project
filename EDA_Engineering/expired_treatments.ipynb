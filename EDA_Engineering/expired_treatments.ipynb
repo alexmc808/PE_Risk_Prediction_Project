{
 "cells": [
  {
   "cell_type": "markdown",
   "metadata": {},
   "source": [
    "### Imports"
   ]
  },
  {
   "cell_type": "code",
   "execution_count": 1,
   "metadata": {},
   "outputs": [],
   "source": [
    "import os\n",
    "import numpy as np\n",
    "import pandas as pd\n",
    "\n",
    "from IPython.core.interactiveshell import InteractiveShell\n",
    "InteractiveShell.ast_node_interactivity = \"all\""
   ]
  },
  {
   "cell_type": "markdown",
   "metadata": {},
   "source": [
    "### Read in Data"
   ]
  },
  {
   "cell_type": "code",
   "execution_count": 2,
   "metadata": {},
   "outputs": [],
   "source": [
    "# Change working directory\n",
    "wd = \"C://Users//alexm//OneDrive//Desktop//Northwestern//Winter 2025//MSDS 498//Capstone Project//PE_Predictions//Data//Preprocessed_Data\"\n",
    "os.chdir(wd)"
   ]
  },
  {
   "cell_type": "code",
   "execution_count": 3,
   "metadata": {},
   "outputs": [
    {
     "data": {
      "text/plain": [
       "(313, 61)"
      ]
     },
     "execution_count": 3,
     "metadata": {},
     "output_type": "execute_result"
    }
   ],
   "source": [
    "# Read in expired data\n",
    "expired = pd.read_csv('expired.csv')\n",
    "\n",
    "expired.shape"
   ]
  },
  {
   "cell_type": "code",
   "execution_count": 4,
   "metadata": {},
   "outputs": [
    {
     "name": "stdout",
     "output_type": "stream",
     "text": [
      "6.6\n"
     ]
    }
   ],
   "source": [
    "# Mortality %\n",
    "mortality = round((313 / (4410 + 313) * 100), 1)\n",
    "print(mortality)"
   ]
  },
  {
   "cell_type": "markdown",
   "metadata": {},
   "source": [
    "### Create Treatment Column"
   ]
  },
  {
   "cell_type": "code",
   "execution_count": 5,
   "metadata": {},
   "outputs": [
    {
     "data": {
      "text/plain": [
       "treatment\n",
       "AC                 236\n",
       "AC, Lytics          46\n",
       "                    25\n",
       "AC, Lytics, CDT      3\n",
       "AC, CDT              2\n",
       "AC, MT               1\n",
       "Name: count, dtype: int64"
      ]
     },
     "execution_count": 5,
     "metadata": {},
     "output_type": "execute_result"
    }
   ],
   "source": [
    "# Create a single \"treatment\" field\n",
    "\n",
    "# Define treatment labels\n",
    "treatment_labels = {\n",
    "    \"ac_flag\": \"AC\",\n",
    "    \"lytics_flag\": \"Lytics\",\n",
    "    \"mt_flag\": \"MT\",\n",
    "    \"us_cdt_flag\": \"CDT\"\n",
    "}\n",
    "\n",
    "# Create treatment column by joining multiple active treatments\n",
    "expired[\"treatment\"] = expired.apply(lambda row: \", \".join([name for col, name in treatment_labels.items() if row[col] == 1]), axis = 1)\n",
    "\n",
    "# See unique categories\n",
    "expired['treatment'].value_counts()"
   ]
  },
  {
   "cell_type": "code",
   "execution_count": 6,
   "metadata": {},
   "outputs": [
    {
     "data": {
      "text/plain": [
       "treatment_grouped\n",
       "AC Only         236\n",
       "Lytics           46\n",
       "No Treatment     25\n",
       "CDT               5\n",
       "MT                1\n",
       "Name: count, dtype: int64"
      ]
     },
     "execution_count": 6,
     "metadata": {},
     "output_type": "execute_result"
    },
    {
     "data": {
      "text/plain": [
       "treatment_grouped\n",
       "AC Only         75.399361\n",
       "Lytics          14.696486\n",
       "No Treatment     7.987220\n",
       "CDT              1.597444\n",
       "MT               0.319489\n",
       "Name: proportion, dtype: float64"
      ]
     },
     "execution_count": 6,
     "metadata": {},
     "output_type": "execute_result"
    }
   ],
   "source": [
    "# Consolidate treatment categories\n",
    "\n",
    "# Define function to consolidate treatment categories\n",
    "def consolidate_treatment(treatment):\n",
    "    if pd.isna(treatment) or treatment.strip() == \"\":\n",
    "        return \"No Treatment\"\n",
    "    elif treatment == \"AC\":\n",
    "        return \"AC Only\"\n",
    "    elif \"MT\" in treatment and \"CDT\" in treatment:\n",
    "        return \"Multiple Interventions\"\n",
    "    elif \"Lytics\" in treatment and \"MT\" not in treatment and \"CDT\" not in treatment:\n",
    "        return \"Lytics\"\n",
    "    elif \"MT\" in treatment and \"CDT\" not in treatment:\n",
    "        return \"MT\"\n",
    "    elif \"CDT\" in treatment and \"MT\" not in treatment:\n",
    "        return \"CDT\"\n",
    "    else:\n",
    "        return \"Other\"\n",
    "\n",
    "# Apply the function to create a new consolidated column\n",
    "expired[\"treatment_grouped\"] = expired[\"treatment\"].apply(consolidate_treatment)\n",
    "\n",
    "# Check value distribution\n",
    "expired[\"treatment_grouped\"].value_counts()\n",
    "\n",
    "# Check value distribution (percentages)\n",
    "expired[\"treatment_grouped\"].value_counts(normalize = True) * 100"
   ]
  },
  {
   "cell_type": "code",
   "execution_count": 7,
   "metadata": {},
   "outputs": [
    {
     "data": {
      "text/plain": [
       "Index(['subject_id', 'hadm_id', 'dvt_date', 'pe_date', 'days_to_pe',\n",
       "       'dischtime', 'admission_type', 'admission_location',\n",
       "       'discharge_location', 'insurance', 'marital_status', 'race',\n",
       "       'hospital_expire_flag', 'gender', 'anchor_age', 'dvt_icd_code',\n",
       "       'dvt_icd_version', 'dvt_diagnosis', 'dvt_chronicity', 'dvt_location',\n",
       "       'pe_icd_code', 'pe_icd_version', 'pe_diagnosis', 'length_of_stay',\n",
       "       'num_dvt_admissions', 'num_dvt_diagnoses', 'had_dvt_as_pri_diagnosis',\n",
       "       'had_icu_stay', 'hx_ac', 'hx_dvt', 'hx_pe', 'hx_vte', 'pe_outcome',\n",
       "       'age', 'myocardial_infarct', 'congestive_heart_failure',\n",
       "       'peripheral_vascular_disease', 'cerebrovascular_disease', 'dementia',\n",
       "       'chronic_pulmonary_disease', 'rheumatic_disease',\n",
       "       'peptic_ulcer_disease', 'mild_liver_disease', 'diabetes_without_cc',\n",
       "       'diabetes_with_cc', 'paraplegia', 'renal_disease', 'malignant_cancer',\n",
       "       'severe_liver_disease', 'metastatic_solid_tumor', 'aids',\n",
       "       'charlson_comorbidity_index', 'had_ddimer', 'had_o2_sat', 'ac_flag',\n",
       "       'lytics_flag', 'mt_flag', 'us_cdt_flag', 'num_pe_events',\n",
       "       'cat_days_to_init_treatment', 'cat_days_to_pe', 'treatment',\n",
       "       'treatment_grouped'],\n",
       "      dtype='object')"
      ]
     },
     "execution_count": 7,
     "metadata": {},
     "output_type": "execute_result"
    }
   ],
   "source": [
    "expired.columns"
   ]
  },
  {
   "cell_type": "code",
   "execution_count": 8,
   "metadata": {},
   "outputs": [
    {
     "data": {
      "text/html": [
       "<div>\n",
       "<style scoped>\n",
       "    .dataframe tbody tr th:only-of-type {\n",
       "        vertical-align: middle;\n",
       "    }\n",
       "\n",
       "    .dataframe tbody tr th {\n",
       "        vertical-align: top;\n",
       "    }\n",
       "\n",
       "    .dataframe thead th {\n",
       "        text-align: right;\n",
       "    }\n",
       "</style>\n",
       "<table border=\"1\" class=\"dataframe\">\n",
       "  <thead>\n",
       "    <tr style=\"text-align: right;\">\n",
       "      <th></th>\n",
       "      <th>treatment_grouped</th>\n",
       "      <th>charlson_comorbidity_index</th>\n",
       "    </tr>\n",
       "  </thead>\n",
       "  <tbody>\n",
       "    <tr>\n",
       "      <th>0</th>\n",
       "      <td>AC Only</td>\n",
       "      <td>6.881356</td>\n",
       "    </tr>\n",
       "    <tr>\n",
       "      <th>1</th>\n",
       "      <td>CDT</td>\n",
       "      <td>7.400000</td>\n",
       "    </tr>\n",
       "    <tr>\n",
       "      <th>2</th>\n",
       "      <td>Lytics</td>\n",
       "      <td>5.913043</td>\n",
       "    </tr>\n",
       "    <tr>\n",
       "      <th>3</th>\n",
       "      <td>MT</td>\n",
       "      <td>4.000000</td>\n",
       "    </tr>\n",
       "    <tr>\n",
       "      <th>4</th>\n",
       "      <td>No Treatment</td>\n",
       "      <td>7.800000</td>\n",
       "    </tr>\n",
       "  </tbody>\n",
       "</table>\n",
       "</div>"
      ],
      "text/plain": [
       "  treatment_grouped  charlson_comorbidity_index\n",
       "0           AC Only                    6.881356\n",
       "1               CDT                    7.400000\n",
       "2            Lytics                    5.913043\n",
       "3                MT                    4.000000\n",
       "4      No Treatment                    7.800000"
      ]
     },
     "execution_count": 8,
     "metadata": {},
     "output_type": "execute_result"
    }
   ],
   "source": [
    "# Group by 'treatment' and calculate the average CCI score\n",
    "avg_cci_by_treatment = expired.groupby('treatment_grouped')['charlson_comorbidity_index'].mean().reset_index()\n",
    "avg_cci_by_treatment"
   ]
  },
  {
   "cell_type": "code",
   "execution_count": 18,
   "metadata": {},
   "outputs": [
    {
     "data": {
      "text/plain": [
       "treatment_grouped\n",
       "AC Only         5\n",
       "CDT             0\n",
       "Lytics          3\n",
       "MT              0\n",
       "No Treatment    1\n",
       "Name: had_dvt_as_pri_diagnosis, dtype: int64"
      ]
     },
     "execution_count": 18,
     "metadata": {},
     "output_type": "execute_result"
    }
   ],
   "source": [
    "percent_dvt_pri_by_treatment = (\n",
    "    expired.groupby('treatment_grouped')['had_dvt_as_pri_diagnosis']\n",
    "    .sum())\n",
    "\n",
    "percent_dvt_pri_by_treatment"
   ]
  },
  {
   "cell_type": "code",
   "execution_count": 19,
   "metadata": {},
   "outputs": [
    {
     "data": {
      "text/plain": [
       "0.0211864406779661"
      ]
     },
     "execution_count": 19,
     "metadata": {},
     "output_type": "execute_result"
    }
   ],
   "source": [
    "5/236"
   ]
  }
 ],
 "metadata": {
  "kernelspec": {
   "display_name": "base",
   "language": "python",
   "name": "python3"
  },
  "language_info": {
   "codemirror_mode": {
    "name": "ipython",
    "version": 3
   },
   "file_extension": ".py",
   "mimetype": "text/x-python",
   "name": "python",
   "nbconvert_exporter": "python",
   "pygments_lexer": "ipython3",
   "version": "3.9.13"
  }
 },
 "nbformat": 4,
 "nbformat_minor": 2
}
